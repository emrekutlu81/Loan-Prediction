{
 "cells": [
  {
   "cell_type": "markdown",
   "id": "ac5bf323",
   "metadata": {},
   "source": [
    "## Data Dictionary\n",
    "\n",
    "The dataset consists of the following fields:\n",
    "* Loan ID: A unique Identifier for the loan information.\n",
    "* Customer ID: A unique identifier for the customer. Customers may have more than one loan.\n",
    "* Loan Status: A categorical variable indicating if the loan was paid back or defaulted.\n",
    "* Current Loan Amount: This is the loan amount that was either completely paid off, or the amount that was defaulted.\n",
    "* Term: A categorical variable indicating if it is a short term or long term loan.\n",
    "* Credit Score: A value between 0 and 800 indicating the riskiness of the borrowers credit history.\n",
    "* Years in current job: A categorical variable indicating how many years the customer has been in their current job.\n",
    "* Home Ownership: Categorical variable indicating home ownership. Values are \"Rent\", \"Home Mortgage\", and \"Own\". If the value is OWN, then the customer is a home owner with no mortgage\n",
    "* Annual Income: The customer's annual income\n",
    "* Purpose: A description of the purpose of the loan.\n",
    "* Monthly Debt: The customer's monthly payment for their existing loans\n",
    "* Years of Credit History: The years since the first entry in the customer’s credit history • Months since last delinquent: Months since the last loan delinquent payment\n",
    "* Number of Open Accounts: The total number of open credit cards\n",
    "* Number of Credit Problems: The number of credit problems in the customer records.\n",
    "* Current Credit Balance: The current total debt for the customer\n",
    "* Maximum Open Credit: The maximum credit limit for all credit sources.\n",
    "* Bankruptcies: The number of bankruptcies\n",
    "* Tax Liens: The number of tax liens.\n",
    "\n"
   ]
  },
  {
   "cell_type": "code",
   "execution_count": 1,
   "id": "13146a28",
   "metadata": {},
   "outputs": [],
   "source": [
    "import pandas as pd\n",
    "import matplotlib.pyplot as plt\n",
    "import seaborn as sns\n",
    "%matplotlib inline\n",
    "import numpy as np\n",
    "import warnings\n",
    "warnings.filterwarnings(\"ignore\")\n",
    "pd.set_option('display.max_columns', 100)\n",
    "\n",
    "#Regression\n",
    "from sklearn.linear_model import LinearRegression\n",
    "from sklearn.linear_model import Ridge,Lasso\n",
    "from sklearn.linear_model import ElasticNet\n",
    "from sklearn.neighbors import KNeighborsRegressor\n",
    "from sklearn.ensemble import GradientBoostingRegressor\n",
    "from sklearn.tree import ExtraTreeRegressor\n",
    "from sklearn.tree import DecisionTreeRegressor\n",
    "from xgboost import XGBRegressor\n",
    "from sklearn.model_selection import train_test_split\n",
    "from sklearn.metrics import mean_squared_error,r2_score,mean_absolute_error\n",
    "from sklearn.preprocessing import normalize,scale\n",
    "\n",
    "#Classification\n",
    "from sklearn.naive_bayes import MultinomialNB,GaussianNB,BernoulliNB\n",
    "from sklearn.neighbors import KNeighborsClassifier\n",
    "from sklearn.svm import SVC\n",
    "from sklearn.tree import DecisionTreeClassifier\n",
    "from sklearn.linear_model import LogisticRegression\n",
    "from sklearn.ensemble import GradientBoostingClassifier\n",
    "from sklearn.ensemble import AdaBoostClassifier\n",
    "from xgboost import XGBClassifier\n",
    "from sklearn.ensemble import RandomForestClassifier\n",
    "from sklearn.metrics import classification_report,accuracy_score,confusion_matrix,precision_score,recall_score,f1_score\n"
   ]
  },
  {
   "cell_type": "code",
   "execution_count": 2,
   "id": "2079bf19",
   "metadata": {},
   "outputs": [],
   "source": [
    "def regression_(x,y):\n",
    "    \n",
    "    lr=LinearRegression()\n",
    "    r=Ridge()\n",
    "    l=Lasso()\n",
    "    e=ElasticNet()\n",
    "    kn=KNeighborsRegressor()\n",
    "    et=ExtraTreeRegressor()\n",
    "    gb=GradientBoostingRegressor()\n",
    "    dt=DecisionTreeRegressor()\n",
    "    xgb=XGBRegressor()\n",
    "       \n",
    "    algos=[lr,r,l,e,kn,et,gb,dt,xgb]\n",
    "    algos_names=['LinearRegressor','Ridge','Lasso','ElasticNet','KNeighbors','ExtraTree','GradientBoosting','DecisionTree','XGB']\n",
    "    \n",
    "    x_train,x_test,y_train,y_test=train_test_split(x,y,test_size=.2,random_state=42)\n",
    "    \n",
    "    r_score=[]\n",
    "    mse=[]\n",
    "    mae=[]\n",
    "    \n",
    "    result=pd.DataFrame(columns=['R_square','MSE','MAE'],index=algos_names)\n",
    "    \n",
    "    for algo in algos:\n",
    "        pred=algo.fit(x,y).predict(x)\n",
    "        r_score.append(r2_score(y,pred))\n",
    "        mse.append(mean_squared_error(y,pred)**.5)\n",
    "        mae.append(mean_absolute_error(y,pred))\n",
    "    \n",
    "    \n",
    "    result.R_square=r_score\n",
    "    result.MSE=mse\n",
    "    result.MAE=mae\n",
    "    \n",
    "    return result.sort_values('R_square',ascending=False)"
   ]
  },
  {
   "cell_type": "code",
   "execution_count": 3,
   "id": "3cda38c2",
   "metadata": {},
   "outputs": [],
   "source": [
    "def classification_(train,y):\n",
    "    \n",
    "    \n",
    "    g=GaussianNB()\n",
    "    b=BernoulliNB()\n",
    "    k=KNeighborsClassifier()\n",
    "    svc=SVC()\n",
    "    d=DecisionTreeClassifier()\n",
    "    log=LogisticRegression()\n",
    "    gbc=GradientBoostingClassifier()\n",
    "    mn=MultinomialNB()\n",
    "    rf=RandomForestClassifier()\n",
    "    ab=AdaBoostClassifier()\n",
    "\n",
    "    x=train\n",
    "    y=y\n",
    "    x_train,x_test,y_train,y_test=train_test_split(x,y,test_size=.2,random_state=42)\n",
    "    algos=[g,b,k,svc,d,log,gbc,mn,rf,ab]\n",
    "    algos_name=['Gaussian','Bernoulli','KNeigbors','SVC','DecisionTree','LogisticRegr','GradientBoosting','Multinominal','RandomForest','AdaBoost']\n",
    "    \n",
    "    accuracy = []\n",
    "    precision = []\n",
    "    recall = []\n",
    "    f1 = []\n",
    "   \n",
    "    result=pd.DataFrame(columns=['AccuracyScore','PrecisionScore','RecallScore','f1_Score'],index=algos_name)\n",
    "    \n",
    "    for i in algos:\n",
    "        \n",
    "        predict=i.fit(x_train,y_train).predict(x_test)\n",
    "        \n",
    "        accuracy.append(accuracy_score(y_test,predict))\n",
    "        precision.append(precision_score(y_test,predict))\n",
    "        recall.append(recall_score(y_test,predict))\n",
    "        f1.append(f1_score(y_test,predict))\n",
    "        \n",
    "\n",
    "    \n",
    "    \n",
    "    result.AccuracyScore=accuracy\n",
    "    result.PrecisionScore=precision\n",
    "    result.RecallScore=recall\n",
    "    result.f1_Score=f1\n",
    "    \n",
    "    \n",
    "    return result.sort_values('f1_Score',ascending=False)"
   ]
  },
  {
   "cell_type": "code",
   "execution_count": 4,
   "id": "e551a6b3",
   "metadata": {},
   "outputs": [
    {
     "data": {
      "text/html": [
       "<div>\n",
       "<style scoped>\n",
       "    .dataframe tbody tr th:only-of-type {\n",
       "        vertical-align: middle;\n",
       "    }\n",
       "\n",
       "    .dataframe tbody tr th {\n",
       "        vertical-align: top;\n",
       "    }\n",
       "\n",
       "    .dataframe thead th {\n",
       "        text-align: right;\n",
       "    }\n",
       "</style>\n",
       "<table border=\"1\" class=\"dataframe\">\n",
       "  <thead>\n",
       "    <tr style=\"text-align: right;\">\n",
       "      <th></th>\n",
       "      <th>Loan ID</th>\n",
       "      <th>Customer ID</th>\n",
       "      <th>Loan Status</th>\n",
       "      <th>Current Loan Amount</th>\n",
       "      <th>Term</th>\n",
       "      <th>Credit Score</th>\n",
       "      <th>Years in current job</th>\n",
       "      <th>Home Ownership</th>\n",
       "      <th>Annual Income</th>\n",
       "      <th>Purpose</th>\n",
       "      <th>Monthly Debt</th>\n",
       "      <th>Years of Credit History</th>\n",
       "      <th>Months since last delinquent</th>\n",
       "      <th>Number of Open Accounts</th>\n",
       "      <th>Number of Credit Problems</th>\n",
       "      <th>Current Credit Balance</th>\n",
       "      <th>Maximum Open Credit</th>\n",
       "      <th>Bankruptcies</th>\n",
       "      <th>Tax Liens</th>\n",
       "    </tr>\n",
       "  </thead>\n",
       "  <tbody>\n",
       "    <tr>\n",
       "      <th>0</th>\n",
       "      <td>000025bb-5694-4cff-b17d-192b1a98ba44</td>\n",
       "      <td>5ebc8bb1-5eb9-4404-b11b-a6eebc401a19</td>\n",
       "      <td>Fully Paid</td>\n",
       "      <td>11520</td>\n",
       "      <td>Short Term</td>\n",
       "      <td>741.0</td>\n",
       "      <td>10+ years</td>\n",
       "      <td>Home Mortgage</td>\n",
       "      <td>33694.0</td>\n",
       "      <td>Debt Consolidation</td>\n",
       "      <td>$584.03</td>\n",
       "      <td>12.3</td>\n",
       "      <td>41.0</td>\n",
       "      <td>10</td>\n",
       "      <td>0</td>\n",
       "      <td>6760</td>\n",
       "      <td>16056</td>\n",
       "      <td>0.0</td>\n",
       "      <td>0.0</td>\n",
       "    </tr>\n",
       "    <tr>\n",
       "      <th>1</th>\n",
       "      <td>00002c49-3a29-4bd4-8f67-c8f8fbc1048c</td>\n",
       "      <td>927b388d-2e01-423f-a8dc-f7e42d668f46</td>\n",
       "      <td>Fully Paid</td>\n",
       "      <td>3441</td>\n",
       "      <td>Short Term</td>\n",
       "      <td>734.0</td>\n",
       "      <td>4 years</td>\n",
       "      <td>Home Mortgage</td>\n",
       "      <td>42269.0</td>\n",
       "      <td>other</td>\n",
       "      <td>$1,106.04</td>\n",
       "      <td>26.3</td>\n",
       "      <td>NaN</td>\n",
       "      <td>17</td>\n",
       "      <td>0</td>\n",
       "      <td>6262</td>\n",
       "      <td>19149</td>\n",
       "      <td>0.0</td>\n",
       "      <td>0.0</td>\n",
       "    </tr>\n",
       "    <tr>\n",
       "      <th>2</th>\n",
       "      <td>00002d89-27f3-409b-aa76-90834f359a65</td>\n",
       "      <td>defce609-c631-447d-aad6-1270615e89c4</td>\n",
       "      <td>Fully Paid</td>\n",
       "      <td>21029</td>\n",
       "      <td>Short Term</td>\n",
       "      <td>747.0</td>\n",
       "      <td>10+ years</td>\n",
       "      <td>Home Mortgage</td>\n",
       "      <td>90126.0</td>\n",
       "      <td>Debt Consolidation</td>\n",
       "      <td>$1,321.85</td>\n",
       "      <td>28.8</td>\n",
       "      <td>NaN</td>\n",
       "      <td>5</td>\n",
       "      <td>0</td>\n",
       "      <td>20967</td>\n",
       "      <td>28335</td>\n",
       "      <td>0.0</td>\n",
       "      <td>0.0</td>\n",
       "    </tr>\n",
       "    <tr>\n",
       "      <th>3</th>\n",
       "      <td>00005222-b4d8-45a4-ad8c-186057e24233</td>\n",
       "      <td>070bcecb-aae7-4485-a26a-e0403e7bb6c5</td>\n",
       "      <td>Fully Paid</td>\n",
       "      <td>18743</td>\n",
       "      <td>Short Term</td>\n",
       "      <td>747.0</td>\n",
       "      <td>10+ years</td>\n",
       "      <td>Own Home</td>\n",
       "      <td>38072.0</td>\n",
       "      <td>Debt Consolidation</td>\n",
       "      <td>$751.92</td>\n",
       "      <td>26.2</td>\n",
       "      <td>NaN</td>\n",
       "      <td>9</td>\n",
       "      <td>0</td>\n",
       "      <td>22529</td>\n",
       "      <td>43915</td>\n",
       "      <td>0.0</td>\n",
       "      <td>0.0</td>\n",
       "    </tr>\n",
       "    <tr>\n",
       "      <th>4</th>\n",
       "      <td>0000757f-a121-41ed-b17b-162e76647c1f</td>\n",
       "      <td>dde79588-12f0-4811-bab0-e2b07f633fcd</td>\n",
       "      <td>Fully Paid</td>\n",
       "      <td>11731</td>\n",
       "      <td>Short Term</td>\n",
       "      <td>746.0</td>\n",
       "      <td>4 years</td>\n",
       "      <td>Rent</td>\n",
       "      <td>50025.0</td>\n",
       "      <td>Debt Consolidation</td>\n",
       "      <td>$355.18</td>\n",
       "      <td>11.5</td>\n",
       "      <td>NaN</td>\n",
       "      <td>12</td>\n",
       "      <td>0</td>\n",
       "      <td>17391</td>\n",
       "      <td>37081</td>\n",
       "      <td>0.0</td>\n",
       "      <td>0.0</td>\n",
       "    </tr>\n",
       "    <tr>\n",
       "      <th>...</th>\n",
       "      <td>...</td>\n",
       "      <td>...</td>\n",
       "      <td>...</td>\n",
       "      <td>...</td>\n",
       "      <td>...</td>\n",
       "      <td>...</td>\n",
       "      <td>...</td>\n",
       "      <td>...</td>\n",
       "      <td>...</td>\n",
       "      <td>...</td>\n",
       "      <td>...</td>\n",
       "      <td>...</td>\n",
       "      <td>...</td>\n",
       "      <td>...</td>\n",
       "      <td>...</td>\n",
       "      <td>...</td>\n",
       "      <td>...</td>\n",
       "      <td>...</td>\n",
       "      <td>...</td>\n",
       "    </tr>\n",
       "    <tr>\n",
       "      <th>256979</th>\n",
       "      <td>fffef5b7-be99-4666-ac70-2a397d2ee435</td>\n",
       "      <td>7211a8e3-cba4-4132-b939-222eed8a662c</td>\n",
       "      <td>Fully Paid</td>\n",
       "      <td>3911</td>\n",
       "      <td>Short Term</td>\n",
       "      <td>NaN</td>\n",
       "      <td>2 years</td>\n",
       "      <td>Rent</td>\n",
       "      <td>NaN</td>\n",
       "      <td>Debt Consolidation</td>\n",
       "      <td>$1,706.58</td>\n",
       "      <td>19.9</td>\n",
       "      <td>NaN</td>\n",
       "      <td>16</td>\n",
       "      <td>0</td>\n",
       "      <td>43992</td>\n",
       "      <td>44080</td>\n",
       "      <td>0.0</td>\n",
       "      <td>0.0</td>\n",
       "    </tr>\n",
       "    <tr>\n",
       "      <th>256980</th>\n",
       "      <td>ffffca93-aa8c-4123-b8ff-7852f6df889a</td>\n",
       "      <td>616fef0c-8f09-4327-9b5c-48fcfaa52934</td>\n",
       "      <td>Fully Paid</td>\n",
       "      <td>5078</td>\n",
       "      <td>Short Term</td>\n",
       "      <td>737.0</td>\n",
       "      <td>10+ years</td>\n",
       "      <td>Own Home</td>\n",
       "      <td>77186.0</td>\n",
       "      <td>Debt Consolidation</td>\n",
       "      <td>$1,376.47</td>\n",
       "      <td>19.1</td>\n",
       "      <td>47.0</td>\n",
       "      <td>9</td>\n",
       "      <td>0</td>\n",
       "      <td>1717</td>\n",
       "      <td>9758</td>\n",
       "      <td>0.0</td>\n",
       "      <td>0.0</td>\n",
       "    </tr>\n",
       "    <tr>\n",
       "      <th>256981</th>\n",
       "      <td>ffffcb2e-e48e-4d2c-a0d6-ed6bce5bfdbe</td>\n",
       "      <td>971a6682-183b-4a52-8bce-1d3429ade295</td>\n",
       "      <td>Charged Off</td>\n",
       "      <td>12116</td>\n",
       "      <td>Short Term</td>\n",
       "      <td>7460.0</td>\n",
       "      <td>9 years</td>\n",
       "      <td>Home Mortgage</td>\n",
       "      <td>52504.0</td>\n",
       "      <td>Debt Consolidation</td>\n",
       "      <td>$297.96</td>\n",
       "      <td>15.1</td>\n",
       "      <td>82.0</td>\n",
       "      <td>8</td>\n",
       "      <td>0</td>\n",
       "      <td>3315</td>\n",
       "      <td>20090</td>\n",
       "      <td>0.0</td>\n",
       "      <td>0.0</td>\n",
       "    </tr>\n",
       "    <tr>\n",
       "      <th>256982</th>\n",
       "      <td>ffffcb2e-e48e-4d2c-a0d6-ed6bce5bfdbe</td>\n",
       "      <td>971a6682-183b-4a52-8bce-1d3429ade295</td>\n",
       "      <td>Charged Off</td>\n",
       "      <td>12116</td>\n",
       "      <td>Short Term</td>\n",
       "      <td>746.0</td>\n",
       "      <td>9 years</td>\n",
       "      <td>Home Mortgage</td>\n",
       "      <td>52504.0</td>\n",
       "      <td>Debt Consolidation</td>\n",
       "      <td>$297.96</td>\n",
       "      <td>15.1</td>\n",
       "      <td>82.0</td>\n",
       "      <td>8</td>\n",
       "      <td>0</td>\n",
       "      <td>3315</td>\n",
       "      <td>20090</td>\n",
       "      <td>0.0</td>\n",
       "      <td>0.0</td>\n",
       "    </tr>\n",
       "    <tr>\n",
       "      <th>256983</th>\n",
       "      <td>ffffe32e-ed17-459f-9cfd-7b9ee7972933</td>\n",
       "      <td>97281336-1e45-41d2-acb2-263ce56a590e</td>\n",
       "      <td>Fully Paid</td>\n",
       "      <td>27902</td>\n",
       "      <td>Long Term</td>\n",
       "      <td>678.0</td>\n",
       "      <td>10+ years</td>\n",
       "      <td>Home Mortgage</td>\n",
       "      <td>117480.0</td>\n",
       "      <td>Debt Consolidation</td>\n",
       "      <td>$2,525.82</td>\n",
       "      <td>18.0</td>\n",
       "      <td>11.0</td>\n",
       "      <td>10</td>\n",
       "      <td>0</td>\n",
       "      <td>28317</td>\n",
       "      <td>62371</td>\n",
       "      <td>0.0</td>\n",
       "      <td>0.0</td>\n",
       "    </tr>\n",
       "  </tbody>\n",
       "</table>\n",
       "<p>240374 rows × 19 columns</p>\n",
       "</div>"
      ],
      "text/plain": [
       "                                     Loan ID  \\\n",
       "0       000025bb-5694-4cff-b17d-192b1a98ba44   \n",
       "1       00002c49-3a29-4bd4-8f67-c8f8fbc1048c   \n",
       "2       00002d89-27f3-409b-aa76-90834f359a65   \n",
       "3       00005222-b4d8-45a4-ad8c-186057e24233   \n",
       "4       0000757f-a121-41ed-b17b-162e76647c1f   \n",
       "...                                      ...   \n",
       "256979  fffef5b7-be99-4666-ac70-2a397d2ee435   \n",
       "256980  ffffca93-aa8c-4123-b8ff-7852f6df889a   \n",
       "256981  ffffcb2e-e48e-4d2c-a0d6-ed6bce5bfdbe   \n",
       "256982  ffffcb2e-e48e-4d2c-a0d6-ed6bce5bfdbe   \n",
       "256983  ffffe32e-ed17-459f-9cfd-7b9ee7972933   \n",
       "\n",
       "                                 Customer ID  Loan Status  \\\n",
       "0       5ebc8bb1-5eb9-4404-b11b-a6eebc401a19   Fully Paid   \n",
       "1       927b388d-2e01-423f-a8dc-f7e42d668f46   Fully Paid   \n",
       "2       defce609-c631-447d-aad6-1270615e89c4   Fully Paid   \n",
       "3       070bcecb-aae7-4485-a26a-e0403e7bb6c5   Fully Paid   \n",
       "4       dde79588-12f0-4811-bab0-e2b07f633fcd   Fully Paid   \n",
       "...                                      ...          ...   \n",
       "256979  7211a8e3-cba4-4132-b939-222eed8a662c   Fully Paid   \n",
       "256980  616fef0c-8f09-4327-9b5c-48fcfaa52934   Fully Paid   \n",
       "256981  971a6682-183b-4a52-8bce-1d3429ade295  Charged Off   \n",
       "256982  971a6682-183b-4a52-8bce-1d3429ade295  Charged Off   \n",
       "256983  97281336-1e45-41d2-acb2-263ce56a590e   Fully Paid   \n",
       "\n",
       "        Current Loan Amount        Term  Credit Score Years in current job  \\\n",
       "0                     11520  Short Term         741.0            10+ years   \n",
       "1                      3441  Short Term         734.0              4 years   \n",
       "2                     21029  Short Term         747.0            10+ years   \n",
       "3                     18743  Short Term         747.0            10+ years   \n",
       "4                     11731  Short Term         746.0              4 years   \n",
       "...                     ...         ...           ...                  ...   \n",
       "256979                 3911  Short Term           NaN              2 years   \n",
       "256980                 5078  Short Term         737.0            10+ years   \n",
       "256981                12116  Short Term        7460.0              9 years   \n",
       "256982                12116  Short Term         746.0              9 years   \n",
       "256983                27902   Long Term         678.0            10+ years   \n",
       "\n",
       "       Home Ownership  Annual Income             Purpose Monthly Debt  \\\n",
       "0       Home Mortgage        33694.0  Debt Consolidation      $584.03   \n",
       "1       Home Mortgage        42269.0               other   $1,106.04    \n",
       "2       Home Mortgage        90126.0  Debt Consolidation   $1,321.85    \n",
       "3            Own Home        38072.0  Debt Consolidation      $751.92   \n",
       "4                Rent        50025.0  Debt Consolidation      $355.18   \n",
       "...               ...            ...                 ...          ...   \n",
       "256979           Rent            NaN  Debt Consolidation   $1,706.58    \n",
       "256980       Own Home        77186.0  Debt Consolidation   $1,376.47    \n",
       "256981  Home Mortgage        52504.0  Debt Consolidation      $297.96   \n",
       "256982  Home Mortgage        52504.0  Debt Consolidation      $297.96   \n",
       "256983  Home Mortgage       117480.0  Debt Consolidation   $2,525.82    \n",
       "\n",
       "        Years of Credit History  Months since last delinquent  \\\n",
       "0                          12.3                          41.0   \n",
       "1                          26.3                           NaN   \n",
       "2                          28.8                           NaN   \n",
       "3                          26.2                           NaN   \n",
       "4                          11.5                           NaN   \n",
       "...                         ...                           ...   \n",
       "256979                     19.9                           NaN   \n",
       "256980                     19.1                          47.0   \n",
       "256981                     15.1                          82.0   \n",
       "256982                     15.1                          82.0   \n",
       "256983                     18.0                          11.0   \n",
       "\n",
       "        Number of Open Accounts  Number of Credit Problems  \\\n",
       "0                            10                          0   \n",
       "1                            17                          0   \n",
       "2                             5                          0   \n",
       "3                             9                          0   \n",
       "4                            12                          0   \n",
       "...                         ...                        ...   \n",
       "256979                       16                          0   \n",
       "256980                        9                          0   \n",
       "256981                        8                          0   \n",
       "256982                        8                          0   \n",
       "256983                       10                          0   \n",
       "\n",
       "        Current Credit Balance Maximum Open Credit  Bankruptcies  Tax Liens  \n",
       "0                         6760               16056           0.0        0.0  \n",
       "1                         6262               19149           0.0        0.0  \n",
       "2                        20967               28335           0.0        0.0  \n",
       "3                        22529               43915           0.0        0.0  \n",
       "4                        17391               37081           0.0        0.0  \n",
       "...                        ...                 ...           ...        ...  \n",
       "256979                   43992               44080           0.0        0.0  \n",
       "256980                    1717                9758           0.0        0.0  \n",
       "256981                    3315               20090           0.0        0.0  \n",
       "256982                    3315               20090           0.0        0.0  \n",
       "256983                   28317               62371           0.0        0.0  \n",
       "\n",
       "[240374 rows x 19 columns]"
      ]
     },
     "execution_count": 4,
     "metadata": {},
     "output_type": "execute_result"
    }
   ],
   "source": [
    "df = pd.read_csv(\"LoansTrainingSet.csv\")\n",
    "df.drop_duplicates(inplace=True)\n",
    "df"
   ]
  },
  {
   "cell_type": "code",
   "execution_count": 5,
   "id": "267a0036",
   "metadata": {},
   "outputs": [
    {
     "data": {
      "text/plain": [
       "Loan ID                              0\n",
       "Customer ID                          0\n",
       "Loan Status                          0\n",
       "Current Loan Amount                  0\n",
       "Term                                 0\n",
       "Credit Score                     59346\n",
       "Years in current job             10444\n",
       "Home Ownership                       0\n",
       "Annual Income                    59346\n",
       "Purpose                              0\n",
       "Monthly Debt                         0\n",
       "Years of Credit History              0\n",
       "Months since last delinquent    131427\n",
       "Number of Open Accounts              0\n",
       "Number of Credit Problems            0\n",
       "Current Credit Balance               0\n",
       "Maximum Open Credit                  0\n",
       "Bankruptcies                       492\n",
       "Tax Liens                           23\n",
       "dtype: int64"
      ]
     },
     "execution_count": 5,
     "metadata": {},
     "output_type": "execute_result"
    }
   ],
   "source": [
    "df.isnull().sum()"
   ]
  },
  {
   "cell_type": "code",
   "execution_count": 6,
   "id": "3c8c124e",
   "metadata": {},
   "outputs": [
    {
     "data": {
      "text/plain": [
       "Fully Paid     176191\n",
       "Charged Off     64183\n",
       "Name: Loan Status, dtype: int64"
      ]
     },
     "execution_count": 6,
     "metadata": {},
     "output_type": "execute_result"
    }
   ],
   "source": [
    "df[\"Loan Status\"].value_counts()"
   ]
  },
  {
   "cell_type": "code",
   "execution_count": 7,
   "id": "1baaa707",
   "metadata": {},
   "outputs": [],
   "source": [
    "df[\"Loan Status\"] = df[\"Loan Status\"].replace([\"Fully Paid\", \"Charged Off\"], [1,0]).astype(int)"
   ]
  },
  {
   "cell_type": "code",
   "execution_count": 8,
   "id": "b75e990b",
   "metadata": {},
   "outputs": [
    {
     "data": {
      "text/plain": [
       "Home Mortgage    117231\n",
       "Rent             101209\n",
       "Own Home          21389\n",
       "HaveMortgage        545\n",
       "Name: Home Ownership, dtype: int64"
      ]
     },
     "execution_count": 8,
     "metadata": {},
     "output_type": "execute_result"
    }
   ],
   "source": [
    "df[\"Home Ownership\"].value_counts()"
   ]
  },
  {
   "cell_type": "code",
   "execution_count": 9,
   "id": "0aa969f1",
   "metadata": {},
   "outputs": [],
   "source": [
    "df[\"Home Ownership\"] = df[\"Home Ownership\"].replace([\"Home Mortgage\", \"Rent\", \"Own Home\", \"HaveMortgage\"], [0,1,2,3]).astype(int)"
   ]
  },
  {
   "cell_type": "code",
   "execution_count": 10,
   "id": "ec33a2cb",
   "metadata": {},
   "outputs": [
    {
     "data": {
      "text/plain": [
       "Short Term    182177\n",
       "Long Term      58197\n",
       "Name: Term, dtype: int64"
      ]
     },
     "execution_count": 10,
     "metadata": {},
     "output_type": "execute_result"
    }
   ],
   "source": [
    "df[\"Term\"].value_counts()"
   ]
  },
  {
   "cell_type": "code",
   "execution_count": 11,
   "id": "9c1e7828",
   "metadata": {},
   "outputs": [],
   "source": [
    "df[\"Term\"] = df[\"Term\"].replace([\"Short Term\", \"Long Term\"], [1,0]).astype(int)"
   ]
  },
  {
   "cell_type": "code",
   "execution_count": 12,
   "id": "4e6f5ba9",
   "metadata": {},
   "outputs": [
    {
     "data": {
      "text/plain": [
       "Debt Consolidation      190656\n",
       "Home Improvements        14106\n",
       "other                    13221\n",
       "Other                     9115\n",
       "Business Loan             4275\n",
       "Buy a Car                 3150\n",
       "Medical Bills             2687\n",
       "Take a Trip               1467\n",
       "Buy House                 1445\n",
       "Educational Expenses       252\n",
       "Name: Purpose, dtype: int64"
      ]
     },
     "execution_count": 12,
     "metadata": {},
     "output_type": "execute_result"
    }
   ],
   "source": [
    "df[\"Purpose\"].value_counts()"
   ]
  },
  {
   "cell_type": "code",
   "execution_count": 13,
   "id": "ca040275",
   "metadata": {},
   "outputs": [],
   "source": [
    "df[\"Purpose\"] = df[\"Purpose\"].replace(\"Other\",\"other\")"
   ]
  },
  {
   "cell_type": "code",
   "execution_count": 14,
   "id": "3c8154d5",
   "metadata": {},
   "outputs": [
    {
     "data": {
      "text/plain": [
       "0        1503\n",
       "0         223\n",
       "15662      18\n",
       "9749       18\n",
       "14770      18\n",
       "         ... \n",
       "55588       1\n",
       "34676       1\n",
       "92025       1\n",
       "82288       1\n",
       "62371       1\n",
       "Name: Maximum Open Credit, Length: 87188, dtype: int64"
      ]
     },
     "execution_count": 14,
     "metadata": {},
     "output_type": "execute_result"
    }
   ],
   "source": [
    "df[\"Maximum Open Credit\"].value_counts()"
   ]
  },
  {
   "cell_type": "code",
   "execution_count": null,
   "id": "d14ec107",
   "metadata": {},
   "outputs": [],
   "source": []
  },
  {
   "cell_type": "code",
   "execution_count": 15,
   "id": "d5c35d19",
   "metadata": {},
   "outputs": [
    {
     "data": {
      "text/plain": [
       "$0.00         241\n",
       "$847.85        12\n",
       "$838.10        12\n",
       "$636.87        11\n",
       "$837.00        11\n",
       "             ... \n",
       "$3,097.91       1\n",
       "$2,068.23       1\n",
       "$347.17         1\n",
       "$1,405.80       1\n",
       "$2,525.82       1\n",
       "Name: Monthly Debt, Length: 129115, dtype: int64"
      ]
     },
     "execution_count": 15,
     "metadata": {},
     "output_type": "execute_result"
    }
   ],
   "source": [
    "df[\"Monthly Debt\"].value_counts()"
   ]
  },
  {
   "cell_type": "code",
   "execution_count": 16,
   "id": "b39d3133",
   "metadata": {},
   "outputs": [],
   "source": [
    "df[\"Monthly Debt\"] = df[\"Monthly Debt\"].str.replace(\"$\", \"\")\n",
    "df[\"Monthly Debt\"] = df[\"Monthly Debt\"].str.replace(\",\", \"\")"
   ]
  },
  {
   "cell_type": "code",
   "execution_count": 17,
   "id": "e7ae3bc3",
   "metadata": {},
   "outputs": [],
   "source": [
    "df['Monthly Debt'] = df['Monthly Debt'].astype(float)"
   ]
  },
  {
   "cell_type": "code",
   "execution_count": 18,
   "id": "f5b88e8f",
   "metadata": {
    "scrolled": true
   },
   "outputs": [
    {
     "data": {
      "text/plain": [
       "0.0     236037\n",
       "1.0       3055\n",
       "2.0        811\n",
       "3.0        223\n",
       "4.0        116\n",
       "5.0         54\n",
       "6.0         28\n",
       "9.0          8\n",
       "8.0          8\n",
       "7.0          6\n",
       "10.0         3\n",
       "11.0         2\n",
       "Name: Tax Liens, dtype: int64"
      ]
     },
     "execution_count": 18,
     "metadata": {},
     "output_type": "execute_result"
    }
   ],
   "source": [
    "df[\"Tax Liens\"].value_counts() "
   ]
  },
  {
   "cell_type": "code",
   "execution_count": 19,
   "id": "7d2c94f1",
   "metadata": {},
   "outputs": [],
   "source": [
    "df[\"Tax Liens\"] = df[\"Tax Liens\"].fillna(0)"
   ]
  },
  {
   "cell_type": "code",
   "execution_count": 20,
   "id": "ee8c9cd2",
   "metadata": {},
   "outputs": [
    {
     "data": {
      "text/plain": [
       "0.0    214858\n",
       "1.0     23906\n",
       "2.0       902\n",
       "3.0       168\n",
       "4.0        29\n",
       "5.0        15\n",
       "6.0         3\n",
       "7.0         1\n",
       "Name: Bankruptcies, dtype: int64"
      ]
     },
     "execution_count": 20,
     "metadata": {},
     "output_type": "execute_result"
    }
   ],
   "source": [
    "df[\"Bankruptcies\"].value_counts()"
   ]
  },
  {
   "cell_type": "code",
   "execution_count": 21,
   "id": "450d5caf",
   "metadata": {},
   "outputs": [],
   "source": [
    "df[\"Bankruptcies\"] = df[\"Bankruptcies\"].fillna(0)"
   ]
  },
  {
   "cell_type": "code",
   "execution_count": 22,
   "id": "92d8d8df",
   "metadata": {},
   "outputs": [
    {
     "data": {
      "text/plain": [
       "10+ years    73965\n",
       "2 years      21972\n",
       "< 1 year     19684\n",
       "3 years      19337\n",
       "5 years      16759\n",
       "1 year       15670\n",
       "4 years      15138\n",
       "6 years      13654\n",
       "7 years      13073\n",
       "8 years      11417\n",
       "9 years       9261\n",
       "Name: Years in current job, dtype: int64"
      ]
     },
     "execution_count": 22,
     "metadata": {},
     "output_type": "execute_result"
    }
   ],
   "source": [
    "df[\"Years in current job\"].value_counts()"
   ]
  },
  {
   "cell_type": "code",
   "execution_count": 23,
   "id": "777d95ef",
   "metadata": {},
   "outputs": [],
   "source": [
    "df[\"Years in current job\"] = df[\"Years in current job\"].replace(\"< 1 year\",0)\n",
    "df[\"Years in current job\"] = df[\"Years in current job\"].replace(\"1 year\",1)\n",
    "df[\"Years in current job\"] = df[\"Years in current job\"].replace(\"2 years\",2)\n",
    "df[\"Years in current job\"] = df[\"Years in current job\"].replace(\"3 years\",3)\n",
    "df[\"Years in current job\"] = df[\"Years in current job\"].replace(\"4 years\",4)\n",
    "df[\"Years in current job\"] = df[\"Years in current job\"].replace(\"5 years\",5)\n",
    "df[\"Years in current job\"] = df[\"Years in current job\"].replace(\"6 years\",6)\n",
    "df[\"Years in current job\"] = df[\"Years in current job\"].replace(\"7 years\",7)\n",
    "df[\"Years in current job\"] = df[\"Years in current job\"].replace(\"8 years\",8)\n",
    "df[\"Years in current job\"] = df[\"Years in current job\"].replace(\"9 years\",9)\n",
    "df[\"Years in current job\"] = df[\"Years in current job\"].replace(\"10+ years\",10)"
   ]
  },
  {
   "cell_type": "code",
   "execution_count": 24,
   "id": "dffd04a2",
   "metadata": {},
   "outputs": [],
   "source": [
    "df[\"Years in current job\"].fillna(df[\"Years in current job\"].median(),inplace= True)"
   ]
  },
  {
   "cell_type": "code",
   "execution_count": 25,
   "id": "e188df86",
   "metadata": {},
   "outputs": [
    {
     "data": {
      "text/plain": [
       "747.0     5512\n",
       "746.0     5326\n",
       "740.0     5278\n",
       "741.0     5245\n",
       "742.0     4995\n",
       "          ... \n",
       "6070.0       3\n",
       "5910.0       3\n",
       "5900.0       2\n",
       "5930.0       2\n",
       "5860.0       1\n",
       "Name: Credit Score, Length: 334, dtype: int64"
      ]
     },
     "execution_count": 25,
     "metadata": {},
     "output_type": "execute_result"
    }
   ],
   "source": [
    "df[\"Credit Score\"].value_counts()"
   ]
  },
  {
   "cell_type": "code",
   "execution_count": 26,
   "id": "a8f7dd8c",
   "metadata": {},
   "outputs": [],
   "source": [
    "df['Credit Score']=df['Credit Score'].apply(lambda x:x/10 if x>800 else x)"
   ]
  },
  {
   "cell_type": "code",
   "execution_count": 27,
   "id": "df588593",
   "metadata": {},
   "outputs": [],
   "source": [
    "df[\"Credit Score\"].fillna(df[\"Credit Score\"].median(),inplace= True)"
   ]
  },
  {
   "cell_type": "code",
   "execution_count": 28,
   "id": "1f31ac45",
   "metadata": {},
   "outputs": [],
   "source": [
    "df = df.drop([\"Loan ID\", \"Customer ID\", \"Months since last delinquent\", 'Maximum Open Credit',\"Purpose\"],axis=1)"
   ]
  },
  {
   "cell_type": "code",
   "execution_count": 29,
   "id": "1e29211a",
   "metadata": {
    "scrolled": true
   },
   "outputs": [
    {
     "name": "stdout",
     "output_type": "stream",
     "text": [
      "<class 'pandas.core.frame.DataFrame'>\n",
      "Int64Index: 240374 entries, 0 to 256983\n",
      "Data columns (total 14 columns):\n",
      " #   Column                     Non-Null Count   Dtype  \n",
      "---  ------                     --------------   -----  \n",
      " 0   Loan Status                240374 non-null  int32  \n",
      " 1   Current Loan Amount        240374 non-null  int64  \n",
      " 2   Term                       240374 non-null  int32  \n",
      " 3   Credit Score               240374 non-null  float64\n",
      " 4   Years in current job       240374 non-null  float64\n",
      " 5   Home Ownership             240374 non-null  int32  \n",
      " 6   Annual Income              181028 non-null  float64\n",
      " 7   Monthly Debt               240374 non-null  float64\n",
      " 8   Years of Credit History    240374 non-null  float64\n",
      " 9   Number of Open Accounts    240374 non-null  int64  \n",
      " 10  Number of Credit Problems  240374 non-null  int64  \n",
      " 11  Current Credit Balance     240374 non-null  int64  \n",
      " 12  Bankruptcies               240374 non-null  float64\n",
      " 13  Tax Liens                  240374 non-null  float64\n",
      "dtypes: float64(7), int32(3), int64(4)\n",
      "memory usage: 24.8 MB\n"
     ]
    }
   ],
   "source": [
    "df.info()"
   ]
  },
  {
   "cell_type": "code",
   "execution_count": null,
   "id": "dfe2e7c3",
   "metadata": {},
   "outputs": [],
   "source": []
  },
  {
   "cell_type": "code",
   "execution_count": null,
   "id": "d9c66a21",
   "metadata": {},
   "outputs": [],
   "source": []
  },
  {
   "cell_type": "code",
   "execution_count": null,
   "id": "337b4419",
   "metadata": {},
   "outputs": [],
   "source": []
  },
  {
   "cell_type": "markdown",
   "id": "ea0047a6",
   "metadata": {},
   "source": [
    "## Regression"
   ]
  },
  {
   "cell_type": "code",
   "execution_count": 30,
   "id": "31d3869a",
   "metadata": {},
   "outputs": [],
   "source": [
    "missing = df[df[\"Annual Income\"].isnull()]\n",
    "filled = df[df[\"Annual Income\"].notnull()]"
   ]
  },
  {
   "cell_type": "code",
   "execution_count": 31,
   "id": "71ba11df",
   "metadata": {},
   "outputs": [
    {
     "data": {
      "text/plain": [
       "Annual Income                1.000000\n",
       "Monthly Debt                 0.475043\n",
       "Current Credit Balance       0.307302\n",
       "Years of Credit History      0.155994\n",
       "Home Ownership               0.152087\n",
       "Number of Open Accounts      0.147549\n",
       "Years in current job         0.070728\n",
       "Loan Status                  0.070346\n",
       "Term                         0.067576\n",
       "Bankruptcies                 0.047207\n",
       "Tax Liens                    0.038451\n",
       "Current Loan Amount          0.022396\n",
       "Number of Credit Problems    0.016035\n",
       "Credit Score                 0.014700\n",
       "Name: Annual Income, dtype: float64"
      ]
     },
     "execution_count": 31,
     "metadata": {},
     "output_type": "execute_result"
    }
   ],
   "source": [
    "abs(filled.corr()[\"Annual Income\"]).sort_values(ascending = False)"
   ]
  },
  {
   "cell_type": "code",
   "execution_count": 32,
   "id": "5a75c3c6",
   "metadata": {},
   "outputs": [],
   "source": [
    "y=filled[\"Annual Income\"]\n",
    "x=filled[[\"Monthly Debt\",\"Current Credit Balance\"]]"
   ]
  },
  {
   "cell_type": "code",
   "execution_count": 33,
   "id": "d37cb935",
   "metadata": {},
   "outputs": [
    {
     "data": {
      "text/plain": [
       "((59346, 14), (181028, 14))"
      ]
     },
     "execution_count": 33,
     "metadata": {},
     "output_type": "execute_result"
    }
   ],
   "source": [
    "missing.shape , filled.shape"
   ]
  },
  {
   "cell_type": "code",
   "execution_count": 34,
   "id": "4196e13c",
   "metadata": {},
   "outputs": [
    {
     "data": {
      "text/plain": [
       "(pandas.core.frame.DataFrame, pandas.core.series.Series)"
      ]
     },
     "execution_count": 34,
     "metadata": {},
     "output_type": "execute_result"
    }
   ],
   "source": [
    "type(x), type(y)"
   ]
  },
  {
   "cell_type": "code",
   "execution_count": 35,
   "id": "2264fcc6",
   "metadata": {
    "scrolled": false
   },
   "outputs": [
    {
     "data": {
      "text/html": [
       "<div>\n",
       "<style scoped>\n",
       "    .dataframe tbody tr th:only-of-type {\n",
       "        vertical-align: middle;\n",
       "    }\n",
       "\n",
       "    .dataframe tbody tr th {\n",
       "        vertical-align: top;\n",
       "    }\n",
       "\n",
       "    .dataframe thead th {\n",
       "        text-align: right;\n",
       "    }\n",
       "</style>\n",
       "<table border=\"1\" class=\"dataframe\">\n",
       "  <thead>\n",
       "    <tr style=\"text-align: right;\">\n",
       "      <th></th>\n",
       "      <th>R_square</th>\n",
       "      <th>MSE</th>\n",
       "      <th>MAE</th>\n",
       "    </tr>\n",
       "  </thead>\n",
       "  <tbody>\n",
       "    <tr>\n",
       "      <th>ExtraTree</th>\n",
       "      <td>0.999637</td>\n",
       "      <td>1076.120654</td>\n",
       "      <td>25.704262</td>\n",
       "    </tr>\n",
       "    <tr>\n",
       "      <th>DecisionTree</th>\n",
       "      <td>0.999637</td>\n",
       "      <td>1076.120654</td>\n",
       "      <td>25.704262</td>\n",
       "    </tr>\n",
       "    <tr>\n",
       "      <th>XGB</th>\n",
       "      <td>0.500406</td>\n",
       "      <td>39912.622542</td>\n",
       "      <td>22472.758178</td>\n",
       "    </tr>\n",
       "    <tr>\n",
       "      <th>KNeighbors</th>\n",
       "      <td>0.395060</td>\n",
       "      <td>43919.560161</td>\n",
       "      <td>20921.391949</td>\n",
       "    </tr>\n",
       "    <tr>\n",
       "      <th>GradientBoosting</th>\n",
       "      <td>0.277965</td>\n",
       "      <td>47982.274714</td>\n",
       "      <td>23136.728557</td>\n",
       "    </tr>\n",
       "    <tr>\n",
       "      <th>LinearRegressor</th>\n",
       "      <td>0.234012</td>\n",
       "      <td>49421.156321</td>\n",
       "      <td>23603.115213</td>\n",
       "    </tr>\n",
       "    <tr>\n",
       "      <th>Ridge</th>\n",
       "      <td>0.234012</td>\n",
       "      <td>49421.156321</td>\n",
       "      <td>23603.115213</td>\n",
       "    </tr>\n",
       "    <tr>\n",
       "      <th>Lasso</th>\n",
       "      <td>0.234012</td>\n",
       "      <td>49421.156321</td>\n",
       "      <td>23603.115176</td>\n",
       "    </tr>\n",
       "    <tr>\n",
       "      <th>ElasticNet</th>\n",
       "      <td>0.234012</td>\n",
       "      <td>49421.156321</td>\n",
       "      <td>23603.113643</td>\n",
       "    </tr>\n",
       "  </tbody>\n",
       "</table>\n",
       "</div>"
      ],
      "text/plain": [
       "                  R_square           MSE           MAE\n",
       "ExtraTree         0.999637   1076.120654     25.704262\n",
       "DecisionTree      0.999637   1076.120654     25.704262\n",
       "XGB               0.500406  39912.622542  22472.758178\n",
       "KNeighbors        0.395060  43919.560161  20921.391949\n",
       "GradientBoosting  0.277965  47982.274714  23136.728557\n",
       "LinearRegressor   0.234012  49421.156321  23603.115213\n",
       "Ridge             0.234012  49421.156321  23603.115213\n",
       "Lasso             0.234012  49421.156321  23603.115176\n",
       "ElasticNet        0.234012  49421.156321  23603.113643"
      ]
     },
     "execution_count": 35,
     "metadata": {},
     "output_type": "execute_result"
    }
   ],
   "source": [
    "regression_(x,y)"
   ]
  },
  {
   "cell_type": "code",
   "execution_count": 36,
   "id": "5870190e",
   "metadata": {},
   "outputs": [],
   "source": [
    "del missing[\"Annual Income\"]"
   ]
  },
  {
   "cell_type": "code",
   "execution_count": 37,
   "id": "0d466a8a",
   "metadata": {},
   "outputs": [],
   "source": [
    "etr = ExtraTreeRegressor()\n",
    "pred = etr.fit(x,y).predict(missing[[\"Monthly Debt\",\"Current Credit Balance\"]])"
   ]
  },
  {
   "cell_type": "code",
   "execution_count": 38,
   "id": "49d01be1",
   "metadata": {},
   "outputs": [],
   "source": [
    "#missing[\"Annual Income\"] = pred\n",
    "missing.loc[:,'Annual Income']=pred"
   ]
  },
  {
   "cell_type": "code",
   "execution_count": 39,
   "id": "22f988e1",
   "metadata": {},
   "outputs": [],
   "source": [
    "#df = missing.merge(filled)\n",
    "df=missing.append(filled)"
   ]
  },
  {
   "cell_type": "code",
   "execution_count": 40,
   "id": "774c9dfc",
   "metadata": {},
   "outputs": [
    {
     "data": {
      "text/plain": [
       "Loan Status                  0\n",
       "Current Loan Amount          0\n",
       "Term                         0\n",
       "Credit Score                 0\n",
       "Years in current job         0\n",
       "Home Ownership               0\n",
       "Monthly Debt                 0\n",
       "Years of Credit History      0\n",
       "Number of Open Accounts      0\n",
       "Number of Credit Problems    0\n",
       "Current Credit Balance       0\n",
       "Bankruptcies                 0\n",
       "Tax Liens                    0\n",
       "Annual Income                0\n",
       "dtype: int64"
      ]
     },
     "execution_count": 40,
     "metadata": {},
     "output_type": "execute_result"
    }
   ],
   "source": [
    "df.isnull().sum()"
   ]
  },
  {
   "cell_type": "code",
   "execution_count": null,
   "id": "9e47d879",
   "metadata": {},
   "outputs": [],
   "source": []
  },
  {
   "cell_type": "markdown",
   "id": "c9c88e6b",
   "metadata": {},
   "source": [
    "## Classification"
   ]
  },
  {
   "cell_type": "code",
   "execution_count": 41,
   "id": "cc8af180",
   "metadata": {},
   "outputs": [],
   "source": [
    "y = df['Loan Status']\n",
    "x = df.drop(\"Loan Status\",axis=1)\n",
    "x = pd.get_dummies(x,drop_first=True)"
   ]
  },
  {
   "cell_type": "code",
   "execution_count": null,
   "id": "5d10fb2c",
   "metadata": {
    "scrolled": true
   },
   "outputs": [],
   "source": []
  },
  {
   "cell_type": "code",
   "execution_count": 42,
   "id": "a62e96a6",
   "metadata": {},
   "outputs": [
    {
     "data": {
      "text/html": [
       "<div>\n",
       "<style scoped>\n",
       "    .dataframe tbody tr th:only-of-type {\n",
       "        vertical-align: middle;\n",
       "    }\n",
       "\n",
       "    .dataframe tbody tr th {\n",
       "        vertical-align: top;\n",
       "    }\n",
       "\n",
       "    .dataframe thead th {\n",
       "        text-align: right;\n",
       "    }\n",
       "</style>\n",
       "<table border=\"1\" class=\"dataframe\">\n",
       "  <thead>\n",
       "    <tr style=\"text-align: right;\">\n",
       "      <th></th>\n",
       "      <th>AccuracyScore</th>\n",
       "      <th>PrecisionScore</th>\n",
       "      <th>RecallScore</th>\n",
       "      <th>f1_Score</th>\n",
       "    </tr>\n",
       "  </thead>\n",
       "  <tbody>\n",
       "    <tr>\n",
       "      <th>RandomForest</th>\n",
       "      <td>0.817930</td>\n",
       "      <td>0.833025</td>\n",
       "      <td>0.941683</td>\n",
       "      <td>0.884028</td>\n",
       "    </tr>\n",
       "    <tr>\n",
       "      <th>GradientBoosting</th>\n",
       "      <td>0.753697</td>\n",
       "      <td>0.770135</td>\n",
       "      <td>0.949022</td>\n",
       "      <td>0.850271</td>\n",
       "    </tr>\n",
       "    <tr>\n",
       "      <th>LogisticRegr</th>\n",
       "      <td>0.736973</td>\n",
       "      <td>0.736977</td>\n",
       "      <td>0.999944</td>\n",
       "      <td>0.848554</td>\n",
       "    </tr>\n",
       "    <tr>\n",
       "      <th>SVC</th>\n",
       "      <td>0.736911</td>\n",
       "      <td>0.736911</td>\n",
       "      <td>1.000000</td>\n",
       "      <td>0.848531</td>\n",
       "    </tr>\n",
       "    <tr>\n",
       "      <th>Bernoulli</th>\n",
       "      <td>0.737015</td>\n",
       "      <td>0.737333</td>\n",
       "      <td>0.999012</td>\n",
       "      <td>0.848454</td>\n",
       "    </tr>\n",
       "    <tr>\n",
       "      <th>AdaBoost</th>\n",
       "      <td>0.752075</td>\n",
       "      <td>0.772247</td>\n",
       "      <td>0.941118</td>\n",
       "      <td>0.848361</td>\n",
       "    </tr>\n",
       "    <tr>\n",
       "      <th>KNeigbors</th>\n",
       "      <td>0.718794</td>\n",
       "      <td>0.788324</td>\n",
       "      <td>0.845400</td>\n",
       "      <td>0.815865</td>\n",
       "    </tr>\n",
       "    <tr>\n",
       "      <th>DecisionTree</th>\n",
       "      <td>0.731773</td>\n",
       "      <td>0.834045</td>\n",
       "      <td>0.793999</td>\n",
       "      <td>0.813529</td>\n",
       "    </tr>\n",
       "    <tr>\n",
       "      <th>Gaussian</th>\n",
       "      <td>0.414415</td>\n",
       "      <td>0.990427</td>\n",
       "      <td>0.207356</td>\n",
       "      <td>0.342918</td>\n",
       "    </tr>\n",
       "    <tr>\n",
       "      <th>Multinominal</th>\n",
       "      <td>0.410588</td>\n",
       "      <td>1.000000</td>\n",
       "      <td>0.200158</td>\n",
       "      <td>0.333553</td>\n",
       "    </tr>\n",
       "  </tbody>\n",
       "</table>\n",
       "</div>"
      ],
      "text/plain": [
       "                  AccuracyScore  PrecisionScore  RecallScore  f1_Score\n",
       "RandomForest           0.817930        0.833025     0.941683  0.884028\n",
       "GradientBoosting       0.753697        0.770135     0.949022  0.850271\n",
       "LogisticRegr           0.736973        0.736977     0.999944  0.848554\n",
       "SVC                    0.736911        0.736911     1.000000  0.848531\n",
       "Bernoulli              0.737015        0.737333     0.999012  0.848454\n",
       "AdaBoost               0.752075        0.772247     0.941118  0.848361\n",
       "KNeigbors              0.718794        0.788324     0.845400  0.815865\n",
       "DecisionTree           0.731773        0.834045     0.793999  0.813529\n",
       "Gaussian               0.414415        0.990427     0.207356  0.342918\n",
       "Multinominal           0.410588        1.000000     0.200158  0.333553"
      ]
     },
     "execution_count": 42,
     "metadata": {},
     "output_type": "execute_result"
    }
   ],
   "source": [
    "classification_(x,y)"
   ]
  },
  {
   "cell_type": "code",
   "execution_count": null,
   "id": "9bbd34f0",
   "metadata": {},
   "outputs": [],
   "source": []
  },
  {
   "cell_type": "markdown",
   "id": "24986c3b",
   "metadata": {},
   "source": [
    "## Deep Learning"
   ]
  },
  {
   "cell_type": "code",
   "execution_count": 44,
   "id": "18b32847",
   "metadata": {},
   "outputs": [],
   "source": [
    "x_train,x_test,y_train,y_test=train_test_split(x,y,test_size=.2,random_state=42)"
   ]
  },
  {
   "cell_type": "code",
   "execution_count": 45,
   "id": "21964fe8",
   "metadata": {},
   "outputs": [
    {
     "name": "stdout",
     "output_type": "stream",
     "text": [
      "Epoch 1/40\n",
      "1503/1503 [==============================] - 29s 19ms/step - loss: 910.6487 - accuracy: 0.7320 - val_loss: 0.5358 - val_accuracy: 0.7369\n",
      "Epoch 2/40\n",
      "1503/1503 [==============================] - 24s 16ms/step - loss: 0.6602 - accuracy: 0.7320 - val_loss: 0.5342 - val_accuracy: 0.7369\n",
      "Epoch 3/40\n",
      "1503/1503 [==============================] - 21s 14ms/step - loss: 0.5392 - accuracy: 0.7320 - val_loss: 0.5339 - val_accuracy: 0.7369\n",
      "Epoch 4/40\n",
      "1503/1503 [==============================] - 21s 14ms/step - loss: 0.5316 - accuracy: 0.7320 - val_loss: 0.5268 - val_accuracy: 0.7369\n",
      "Epoch 5/40\n",
      "1503/1503 [==============================] - 20s 14ms/step - loss: 0.5324 - accuracy: 0.7320 - val_loss: 0.5269 - val_accuracy: 0.7369\n",
      "Epoch 6/40\n",
      "1503/1503 [==============================] - 20s 14ms/step - loss: 0.6764 - accuracy: 0.7320 - val_loss: 0.5268 - val_accuracy: 0.7369\n",
      "Epoch 7/40\n",
      "1503/1503 [==============================] - 21s 14ms/step - loss: 0.5313 - accuracy: 0.7320 - val_loss: 0.5268 - val_accuracy: 0.7369\n",
      "Epoch 8/40\n",
      "1503/1503 [==============================] - 21s 14ms/step - loss: 0.5313 - accuracy: 0.7320 - val_loss: 0.5269 - val_accuracy: 0.7369\n",
      "Epoch 9/40\n",
      "1503/1503 [==============================] - 21s 14ms/step - loss: 0.5312 - accuracy: 0.7320 - val_loss: 0.5269 - val_accuracy: 0.7369\n",
      "Epoch 10/40\n",
      "1503/1503 [==============================] - 21s 14ms/step - loss: 0.5312 - accuracy: 0.7320 - val_loss: 0.5268 - val_accuracy: 0.7369\n",
      "Epoch 11/40\n",
      "1503/1503 [==============================] - 21s 14ms/step - loss: 0.5313 - accuracy: 0.7320 - val_loss: 0.5268 - val_accuracy: 0.7369\n",
      "Epoch 12/40\n",
      "1503/1503 [==============================] - 21s 14ms/step - loss: 0.5313 - accuracy: 0.7320 - val_loss: 0.5268 - val_accuracy: 0.7369\n",
      "Epoch 13/40\n",
      "1503/1503 [==============================] - 21s 14ms/step - loss: 0.5312 - accuracy: 0.7320 - val_loss: 0.5268 - val_accuracy: 0.7369\n",
      "Epoch 14/40\n",
      "1503/1503 [==============================] - 21s 14ms/step - loss: 0.5312 - accuracy: 0.7320 - val_loss: 0.5269 - val_accuracy: 0.7369\n",
      "Epoch 15/40\n",
      "1503/1503 [==============================] - 21s 14ms/step - loss: 0.5313 - accuracy: 0.7320 - val_loss: 0.5269 - val_accuracy: 0.7369\n",
      "Epoch 16/40\n",
      "1503/1503 [==============================] - 21s 14ms/step - loss: 0.5313 - accuracy: 0.7320 - val_loss: 0.5269 - val_accuracy: 0.7369\n",
      "Epoch 17/40\n",
      "1503/1503 [==============================] - 21s 14ms/step - loss: 0.5313 - accuracy: 0.7320 - val_loss: 0.5272 - val_accuracy: 0.7369\n",
      "Epoch 18/40\n",
      "1503/1503 [==============================] - 22s 15ms/step - loss: 0.5313 - accuracy: 0.7320 - val_loss: 0.5270 - val_accuracy: 0.7369\n",
      "Epoch 19/40\n",
      "1503/1503 [==============================] - 22s 15ms/step - loss: 0.5313 - accuracy: 0.7320 - val_loss: 0.5269 - val_accuracy: 0.7369\n",
      "Epoch 20/40\n",
      "1503/1503 [==============================] - 22s 15ms/step - loss: 0.5313 - accuracy: 0.7320 - val_loss: 0.5271 - val_accuracy: 0.7369\n",
      "Epoch 21/40\n",
      "1503/1503 [==============================] - 23s 15ms/step - loss: 0.5313 - accuracy: 0.7320 - val_loss: 0.5272 - val_accuracy: 0.7369\n",
      "Epoch 22/40\n",
      "1503/1503 [==============================] - 23s 15ms/step - loss: 0.5313 - accuracy: 0.7320 - val_loss: 0.5268 - val_accuracy: 0.7369\n",
      "Epoch 23/40\n",
      "1503/1503 [==============================] - 23s 15ms/step - loss: 0.5313 - accuracy: 0.7320 - val_loss: 0.5269 - val_accuracy: 0.7369\n",
      "Epoch 24/40\n",
      "1503/1503 [==============================] - 23s 15ms/step - loss: 0.5313 - accuracy: 0.7320 - val_loss: 0.5269 - val_accuracy: 0.7369\n",
      "Epoch 25/40\n",
      "1503/1503 [==============================] - 23s 15ms/step - loss: 0.5313 - accuracy: 0.7320 - val_loss: 0.5269 - val_accuracy: 0.7369\n",
      "Epoch 26/40\n",
      "1503/1503 [==============================] - 24s 16ms/step - loss: 0.5313 - accuracy: 0.7320 - val_loss: 0.5270 - val_accuracy: 0.7369\n",
      "Epoch 27/40\n",
      "1503/1503 [==============================] - 24s 16ms/step - loss: 0.5312 - accuracy: 0.7320 - val_loss: 0.5270 - val_accuracy: 0.7369\n",
      "Epoch 28/40\n",
      "1503/1503 [==============================] - 24s 16ms/step - loss: 0.5313 - accuracy: 0.7320 - val_loss: 0.5269 - val_accuracy: 0.7369\n",
      "Epoch 29/40\n",
      "1503/1503 [==============================] - 23s 15ms/step - loss: 0.5312 - accuracy: 0.7320 - val_loss: 0.5268 - val_accuracy: 0.7369\n",
      "Epoch 30/40\n",
      "1503/1503 [==============================] - 23s 15ms/step - loss: 0.5312 - accuracy: 0.7320 - val_loss: 0.5269 - val_accuracy: 0.7369\n",
      "Epoch 31/40\n",
      "1503/1503 [==============================] - 23s 15ms/step - loss: 0.5313 - accuracy: 0.7320 - val_loss: 0.5268 - val_accuracy: 0.7369\n",
      "Epoch 32/40\n",
      "1503/1503 [==============================] - 23s 15ms/step - loss: 0.5312 - accuracy: 0.7320 - val_loss: 0.5270 - val_accuracy: 0.7369\n",
      "Epoch 33/40\n",
      "1503/1503 [==============================] - 23s 15ms/step - loss: 0.5313 - accuracy: 0.7320 - val_loss: 0.5269 - val_accuracy: 0.7369\n",
      "Epoch 34/40\n",
      "1503/1503 [==============================] - 23s 16ms/step - loss: 0.5312 - accuracy: 0.7320 - val_loss: 0.5268 - val_accuracy: 0.7369\n",
      "Epoch 35/40\n",
      "1503/1503 [==============================] - 22s 15ms/step - loss: 0.5312 - accuracy: 0.7320 - val_loss: 0.5269 - val_accuracy: 0.7369\n",
      "Epoch 36/40\n",
      "1503/1503 [==============================] - 23s 15ms/step - loss: 0.5313 - accuracy: 0.7320 - val_loss: 0.5268 - val_accuracy: 0.7369\n",
      "Epoch 37/40\n",
      "1503/1503 [==============================] - 23s 15ms/step - loss: 0.5312 - accuracy: 0.7320 - val_loss: 0.5269 - val_accuracy: 0.7369\n",
      "Epoch 38/40\n",
      "1503/1503 [==============================] - 22s 15ms/step - loss: 0.5313 - accuracy: 0.7320 - val_loss: 0.5271 - val_accuracy: 0.7369\n",
      "Epoch 39/40\n",
      "1503/1503 [==============================] - 26s 17ms/step - loss: 0.5313 - accuracy: 0.7320 - val_loss: 0.5268 - val_accuracy: 0.7369\n",
      "Epoch 40/40\n",
      "1503/1503 [==============================] - 26s 17ms/step - loss: 0.5312 - accuracy: 0.7320 - val_loss: 0.5268 - val_accuracy: 0.7369\n"
     ]
    }
   ],
   "source": [
    "import tensorflow as tf\n",
    "model = tf.keras.Sequential([\n",
    "                            tf.keras.layers.Dense(512, activation=\"relu\"),\n",
    "                            tf.keras.layers.Dense(512, activation=\"relu\"),\n",
    "                            tf.keras.layers.Dropout(0.25),\n",
    "                            tf.keras.layers.Flatten(),\n",
    "                            tf.keras.layers.Dense(512, activation=\"relu\"),\n",
    "                            tf.keras.layers.Dropout(0.50),\n",
    "                            tf.keras.layers.Dense(512, activation=\"relu\"),\n",
    "                            tf.keras.layers.Dense(1, activation=\"softmax\")])\n",
    "model.compile(optimizer = \"adam\", loss = \"binary_crossentropy\", metrics = [\"accuracy\"])\n",
    "history = model.fit(x_train,y_train, batch_size=128, epochs=40, verbose=1, validation_data=(x_test, y_test))"
   ]
  },
  {
   "cell_type": "code",
   "execution_count": 46,
   "id": "ff3f51b8",
   "metadata": {},
   "outputs": [
    {
     "name": "stdout",
     "output_type": "stream",
     "text": [
      "1503/1503 [==============================] - 6s 4ms/step - loss: 0.5268 - accuracy: 0.7369\n",
      "Accuracy: 73.69\n"
     ]
    }
   ],
   "source": [
    "_, accuracy = model.evaluate(x_test, y_test)\n",
    "print(\"Accuracy: %.2f\" % (accuracy*100))"
   ]
  },
  {
   "cell_type": "code",
   "execution_count": null,
   "id": "9f100bf1",
   "metadata": {},
   "outputs": [],
   "source": []
  }
 ],
 "metadata": {
  "kernelspec": {
   "display_name": "Python 3 (ipykernel)",
   "language": "python",
   "name": "python3"
  },
  "language_info": {
   "codemirror_mode": {
    "name": "ipython",
    "version": 3
   },
   "file_extension": ".py",
   "mimetype": "text/x-python",
   "name": "python",
   "nbconvert_exporter": "python",
   "pygments_lexer": "ipython3",
   "version": "3.9.12"
  }
 },
 "nbformat": 4,
 "nbformat_minor": 5
}
